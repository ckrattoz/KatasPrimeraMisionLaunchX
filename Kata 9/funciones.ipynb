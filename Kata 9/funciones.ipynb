{
 "cells": [
  {
   "cell_type": "markdown",
   "metadata": {},
   "source": [
    "# Funciones"
   ]
  },
  {
   "cell_type": "code",
   "execution_count": 20,
   "metadata": {},
   "outputs": [
    {
     "name": "stdout",
     "output_type": "stream",
     "text": [
      "El promedio de los tres tanques es  78.33333333333333\n",
      "El promedio de los tres tanques es  78.33333333333333  usando la funcion mejorada\n"
     ]
    }
   ],
   "source": [
    "# Función para leer 3 tanques de combustible y muestre el promedio\n",
    "def informe_promedio(lectura1, lectura2, lectura3):\n",
    "    sumatoria = int(lectura1) + int(lectura2) + int(lectura3)\n",
    "    return sumatoria / 3\n",
    "\n",
    "# Llamamos a la función que genera el reporte print(funcion(tanque1, tanque2, tanque3))\n",
    "\n",
    "print(\"El promedio de los tres tanques es \",informe_promedio(1, 12, 222))\n",
    "\n",
    "# Pasamos la logica de promedio a otra funcion\n",
    "def calcula_promedio(sumatoria, divisor):\n",
    "    return sumatoria / divisor \n",
    "\n",
    "# Nueva forma de calcular promedio\n",
    "def informe_mejorado(lectura1, lectura2, lectura3):\n",
    "    sumatoria = int(lectura1) + int(lectura2) + int(lectura3)\n",
    "    return calcula_promedio(sumatoria, 3)\n",
    "\n",
    "# Llamamos a la nueva funcion mejorada\n",
    "print(\"El promedio de los tres tanques es \",informe_mejorado(1, 12, 222), \" usando la funcion mejorada\")\n",
    "\n",
    "    "
   ]
  },
  {
   "cell_type": "markdown",
   "metadata": {},
   "source": [
    "# Argumentos de palabra clave"
   ]
  },
  {
   "cell_type": "code",
   "execution_count": 21,
   "metadata": {},
   "outputs": [
    {
     "name": "stdout",
     "output_type": "stream",
     "text": [
      "\n",
      "    Funcion Simple\n",
      "    Misión con destino a Alfa Sentarui\n",
      "    Combustible total para la misión: 40000 litros\n",
      "    Duracion total: 100000000000102 en minutos\n",
      "    \n",
      "\n",
      "    Funcion Mejorada\n",
      "    Misión con destino a Moon\n",
      "    Duracion total: 1022555611 minutes\n",
      "    Combustible total para la misión: 40000\n",
      "    ======= INFORME DETALLADO DE TANQUES DE COMBUSTIBLE =======\n",
      "| external_tank --> 10000 litros | internal_tank --> 30000 litros |\n"
     ]
    }
   ],
   "source": [
    "# Función con un informe preciso de la misión. Considera hora de prelanzamiento, tiempo de vuelo, destino, tanque externo y tanque interno\n",
    "from datetime import timedelta, datetime\n",
    "\n",
    "def arrival_time(destination, pre_launch, flight_time, external_tank, internal_tank):\n",
    "    return f\"\"\"\n",
    "    Funcion Simple\n",
    "    Misión con destino a {destination}\n",
    "    Combustible total para la misión: {external_tank + internal_tank} litros\n",
    "    Duracion total: {pre_launch + flight_time} en minutos\n",
    "    \"\"\"\n",
    "\n",
    "# Llamamos a la funcion\n",
    "print(arrival_time(\"Alfa Sentarui\", 102,100000000000000, 10000, 30000))\n",
    "\n",
    "# Haré más dinamica la funcion\n",
    "def arrival_time_major(destination, *time, **tanks):\n",
    "    reporte =  f\"\"\"\n",
    "    Funcion Mejorada\n",
    "    Misión con destino a {destination}\n",
    "    Duracion total: {sum(time)} minutes\n",
    "    Combustible total para la misión: {sum(tanks.values())}\n",
    "    \"\"\"\n",
    "\n",
    "    reporte += f\"======= INFORME DETALLADO DE TANQUES DE COMBUSTIBLE =======\\n\"\n",
    "\n",
    "    for tank, litres in tanks.items():\n",
    "        reporte += f\"| {tank} --> {litres} litros \"\n",
    "    \n",
    "    \n",
    "    reporte += f\"|\"\n",
    "    return reporte\n",
    "\n",
    "print(arrival_time_major(\"Moon\", 55, 1022555555, 1, external_tank=10000, internal_tank=30000))\n"
   ]
  }
 ],
 "metadata": {
  "interpreter": {
   "hash": "eb0481407d97aac6e0c00625ae34a76774e40243aaa440c45e633651bd75ee1d"
  },
  "kernelspec": {
   "display_name": "Python 3.10.2 64-bit (windows store)",
   "language": "python",
   "name": "python3"
  },
  "language_info": {
   "codemirror_mode": {
    "name": "ipython",
    "version": 3
   },
   "file_extension": ".py",
   "mimetype": "text/x-python",
   "name": "python",
   "nbconvert_exporter": "python",
   "pygments_lexer": "ipython3",
   "version": "3.10.2"
  },
  "orig_nbformat": 4
 },
 "nbformat": 4,
 "nbformat_minor": 2
}
