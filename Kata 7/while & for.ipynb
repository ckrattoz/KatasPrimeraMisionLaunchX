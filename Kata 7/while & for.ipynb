{
 "cells": [
  {
   "cell_type": "markdown",
   "metadata": {},
   "source": [
    "# Ciclos While :D"
   ]
  },
  {
   "cell_type": "code",
   "execution_count": 8,
   "metadata": {},
   "outputs": [],
   "source": [
    "# Declaración de variables\n",
    "new_planet = ''\n",
    "planets = []\n",
    "\n",
    "while new_planet.lower() != 'done':\n",
    "\n",
    "    # El valor introducido existe, ósea no es vacio?\n",
    "    if new_planet:\n",
    "        # ASi existe, lo agregamos al listado de planetas\n",
    "        planets.append(new_planet)\n",
    "    # Solicitamos un nuevo planeta\n",
    "    new_planet = input('Por favor ingresa el nombre de un planeta o escribe la palabra «done» cuando hayas terminado de carpturar todos los planetas')"
   ]
  },
  {
   "cell_type": "markdown",
   "metadata": {},
   "source": [
    "# Ciclos For :)"
   ]
  },
  {
   "cell_type": "code",
   "execution_count": 9,
   "metadata": {},
   "outputs": [
    {
     "name": "stdout",
     "output_type": "stream",
     "text": [
      "Planeta:  marte\n",
      "Planeta:  jupiter\n",
      "Planeta:  saturno\n"
     ]
    }
   ],
   "source": [
    "# mostrando planetas en lista mediante ciclo for\n",
    "for planet in planets:\n",
    "    print(\"Planeta: \", planet)"
   ]
  }
 ],
 "metadata": {
  "interpreter": {
   "hash": "eb0481407d97aac6e0c00625ae34a76774e40243aaa440c45e633651bd75ee1d"
  },
  "kernelspec": {
   "display_name": "Python 3.10.2 64-bit (windows store)",
   "language": "python",
   "name": "python3"
  },
  "language_info": {
   "codemirror_mode": {
    "name": "ipython",
    "version": 3
   },
   "file_extension": ".py",
   "mimetype": "text/x-python",
   "name": "python",
   "nbconvert_exporter": "python",
   "pygments_lexer": "ipython3",
   "version": "3.10.2"
  },
  "orig_nbformat": 4
 },
 "nbformat": 4,
 "nbformat_minor": 2
}
