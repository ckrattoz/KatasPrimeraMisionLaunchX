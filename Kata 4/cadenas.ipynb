{
 "cells": [
  {
   "cell_type": "markdown",
   "metadata": {},
   "source": [
    "# Transformar cadenas"
   ]
  },
  {
   "cell_type": "code",
   "execution_count": 6,
   "metadata": {},
   "outputs": [
    {
     "name": "stdout",
     "output_type": "stream",
     "text": [
      "** Recorremos las oraciones ***\n",
      "\n",
      "On average, the Moon moves 4cm away from the Earth every year\n",
      "The highest daylight temperature of the Moon is 127 C.\n",
      "** Recorremos las oraciones y reemplazamos la C por Celsius***\n",
      "\n",
      "On average, the Moon moves 4cm away from the Earth every year\n",
      "The highest daylight temperature of the Moon is 127 Celsius.\n"
     ]
    }
   ],
   "source": [
    "# La cadena más fantastica del mundo\n",
    "text = \"\"\"Interesting facts about the Moon. The Moon is Earth's only satellite. There are several interesting facts about the Moon and how it affects life here on Earth. \n",
    "On average, the Moon moves 4cm away from the Earth every year. This yearly drift is not significant enough to cause immediate effects on Earth. The highest daylight temperature of the Moon is 127 C.\"\"\"\n",
    "\n",
    "# Dividiendo el texto\n",
    "oraciones = text.split('. ')\n",
    "\n",
    "# Definimos las palabras clave que buscaremos   \n",
    "palabras_buscadas = ['average', 'temperature', 'distance']\n",
    "\n",
    "# definimos metodo apra recorrer palabras\n",
    "def recorre_palabras(replace=True):\n",
    "  for oracion in oraciones:\n",
    "    for palabra in palabras_buscadas:\n",
    "        if palabra in oracion:\n",
    "            if replace:\n",
    "                print(oracion.replace(' C', ' Celsius'))\n",
    "            else:\n",
    "                print(oracion)\n",
    "            break\n",
    "\n",
    "\n",
    "# recorremos las oraciones\n",
    "print(\"** Recorremos las oraciones ***\")\n",
    "recorre_palabras(False)\n",
    "\n",
    "# Ciclo para cambiar C a Celsius \n",
    "print(\"** Recorremos las oraciones y reemplazamos la C por Celsius***\")\n",
    "recorre_palabras()\n"
   ]
  },
  {
   "cell_type": "markdown",
   "metadata": {},
   "source": [
    "# Formateo de Cadenas"
   ]
  },
  {
   "cell_type": "code",
   "execution_count": 20,
   "metadata": {},
   "outputs": [
    {
     "name": "stdout",
     "output_type": "stream",
     "text": [
      "\n",
      "Datos de Gravedad sobre: Ganímedes\n",
      "-------------------------------------------------------------------------------\n",
      "Nombre del planeta: Marte\n",
      "Gravedad en Ganímedes: 0.00143 m/s2\n",
      "\n",
      "\n",
      "Datos de Gravedad sobre: Ganímedes\n",
      "-------------------------------------------------------------------------------\n",
      "Nombre del planeta: Marte\n",
      "Gravedad en Ganímedes: 1.4300000000000002 m/s2\n",
      "\n"
     ]
    }
   ],
   "source": [
    "# Datos \n",
    "nombre = \"Ganímedes\"\n",
    "gravedad = 0.00143 # en kms\n",
    "planeta = \"Marte\"\n",
    "\n",
    "# Creamos el título\n",
    "titulo = f'Datos sobre la {nombre} y la {planeta}'\n",
    "\n",
    "# ahora un bonito formateo con plantilla\n",
    "datos = f\"\"\"{'-'*80} \n",
    "Nombre del planeta: {planeta} \n",
    "Gravedad en {nombre}: {gravedad * 1000} m/s2 \n",
    "\"\"\"\n",
    "\n",
    "plantilla = f\"\"\"{titulo.title()} \n",
    "{datos} \n",
    "\"\"\" \n",
    "\n",
    "\n",
    "new_template = \"\"\"\n",
    "Datos de Gravedad sobre: {nombre}\n",
    "-------------------------------------------------------------------------------\n",
    "Nombre del planeta: {planeta}\n",
    "Gravedad en {nombre}: {gravedad} m/s2\n",
    "\"\"\"\n",
    "print(new_template.format(nombre=nombre, planeta=planeta, gravedad=gravedad))\n",
    "\n",
    "print(new_template.format(nombre=nombre, planeta=planeta, gravedad=gravedad*1000))\n"
   ]
  }
 ],
 "metadata": {
  "interpreter": {
   "hash": "eb0481407d97aac6e0c00625ae34a76774e40243aaa440c45e633651bd75ee1d"
  },
  "kernelspec": {
   "display_name": "Python 3.10.2 64-bit (windows store)",
   "language": "python",
   "name": "python3"
  },
  "language_info": {
   "codemirror_mode": {
    "name": "ipython",
    "version": 3
   },
   "file_extension": ".py",
   "mimetype": "text/x-python",
   "name": "python",
   "nbconvert_exporter": "python",
   "pygments_lexer": "ipython3",
   "version": "3.10.2"
  },
  "orig_nbformat": 4
 },
 "nbformat": 4,
 "nbformat_minor": 2
}
