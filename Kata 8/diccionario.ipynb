{
 "cells": [
  {
   "cell_type": "markdown",
   "metadata": {},
   "source": [
    "# Definiendo un diccionario de datos"
   ]
  },
  {
   "cell_type": "code",
   "execution_count": 6,
   "metadata": {},
   "outputs": [
    {
     "name": "stdout",
     "output_type": "stream",
     "text": [
      "El planeta  Mars  tiene  2  lunas\n",
      "El planeta  Mars  tiene una circunferencia polar de  6752\n",
      "El planeta  Mars  tiene una circunferencia equatorial de  6792\n"
     ]
    }
   ],
   "source": [
    "# Declarando el diccioanrio\n",
    "planet = {\n",
    "    'name': 'Mars',\n",
    "    'moons': 2\n",
    "}\n",
    "\n",
    "# Muestra el nombre del planeta y el número de lunas que tiene.\n",
    "print(\"El planeta \", planet['name'], \" tiene \", planet['moons'], \" lunas\")\n",
    "\n",
    "# Agregamos dos nuevas llaves con sus valores\n",
    "planet['polar'] = 6752\n",
    "planet['equatorial'] = 6792\n",
    "\n",
    "# Imprime el nombre del planeta con su circunferencia polar.\n",
    "print(\"El planeta \", planet['name'], \" tiene una circunferencia polar de \", planet['polar'])\n",
    "print(\"El planeta \", planet['name'], \" tiene una circunferencia equatorial de \", planet['equatorial'])\n"
   ]
  },
  {
   "cell_type": "markdown",
   "metadata": {},
   "source": [
    "# Programación dinámica con diccionarios"
   ]
  },
  {
   "cell_type": "code",
   "execution_count": 14,
   "metadata": {},
   "outputs": [
    {
     "name": "stdout",
     "output_type": "stream",
     "text": [
      "El promedio de lunas es de  18  lunas por planeta\n"
     ]
    }
   ],
   "source": [
    "# Planets and moons\n",
    "\n",
    "planet_moons = {\n",
    "    'mercury': 0,\n",
    "    'venus': 0,\n",
    "    'earth': 1,\n",
    "    'mars': 2,\n",
    "    'jupiter': 79,\n",
    "    'saturn': 82,\n",
    "    'uranus': 27,\n",
    "    'neptune': 14,\n",
    "    'pluto': 5,\n",
    "    'haumea': 2,\n",
    "    'makemake': 1,\n",
    "    'eris': 1\n",
    "}\n",
    "\n",
    "# Añade el código para determinar el número de lunas y planetas.\n",
    "planets = planet_moons.keys()\n",
    "moons = planet_moons.values()\n",
    "\n",
    "# Total de lunas, ajuaaa!\n",
    "total_moons = 0\n",
    "for moon in moons:\n",
    "    total_moons += int(moon)\n",
    "\n",
    "promedio = round(total_moons/len(planets))\n",
    "\n",
    "# Promedio de lunas\n",
    "print(\"El promedio de lunas es de \", ( promedio ), \" lunas por planeta\") "
   ]
  }
 ],
 "metadata": {
  "interpreter": {
   "hash": "eb0481407d97aac6e0c00625ae34a76774e40243aaa440c45e633651bd75ee1d"
  },
  "kernelspec": {
   "display_name": "Python 3.10.2 64-bit (windows store)",
   "language": "python",
   "name": "python3"
  },
  "language_info": {
   "codemirror_mode": {
    "name": "ipython",
    "version": 3
   },
   "file_extension": ".py",
   "mimetype": "text/x-python",
   "name": "python",
   "nbconvert_exporter": "python",
   "pygments_lexer": "ipython3",
   "version": "3.10.2"
  },
  "orig_nbformat": 4
 },
 "nbformat": 4,
 "nbformat_minor": 2
}
