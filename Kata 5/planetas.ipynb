{
 "cells": [
  {
   "cell_type": "markdown",
   "metadata": {},
   "source": [
    "# Distancia entre planetas en Millas y Kilometros"
   ]
  },
  {
   "cell_type": "code",
   "execution_count": 20,
   "metadata": {},
   "outputs": [
    {
     "name": "stdout",
     "output_type": "stream",
     "text": [
      "La distancia entre Tierra y Jupiter es de 628949330 km\n",
      "y en Millas es de 390577534 mi\n"
     ]
    }
   ],
   "source": [
    "# Crear variables para almacenar las dos distancias\n",
    "tierra = 149597870 # en km\n",
    "jupiter = 778547200 # en km\n",
    "\n",
    "# Calcular la distancia entre planetas\n",
    "distancia_entre_planetas = tierra - jupiter\n",
    "print('La distancia entre Tierra y Jupiter es de ' + str(abs(distancia_entre_planetas)) + ' km')\n",
    "print('y en Millas es de ' + str(round(abs(distancia_entre_planetas * 0.621))) + ' mi')\n"
   ]
  },
  {
   "cell_type": "markdown",
   "metadata": {},
   "source": [
    "# Distancia entre planetas partiendo de la distancia de cada uno al sol"
   ]
  },
  {
   "cell_type": "code",
   "execution_count": 22,
   "metadata": {},
   "outputs": [
    {
     "name": "stdout",
     "output_type": "stream",
     "text": [
      "La distancia entre Planeta 1 y Planeta 2 es de 1999900000000 km\n",
      "La distancia entre Planeta 1 y Planeta 2 es de 1241937900000 mi\n"
     ]
    }
   ],
   "source": [
    "# Almacenar las entradas del usuario\n",
    "planeta_1 = input(\"¿Cuál es la distancia en km del planeta 1 al sol?\")\n",
    "planeta_2 = input(\"¿Cuál es la distancia en km del planeta 2 al sol?\")\n",
    "\n",
    "# Convierte las cadenas de ambos planetas a números enteros\n",
    "planeta_1 = int(planeta_1)\n",
    "planeta_2 = int(planeta_2)\n",
    "\n",
    "# Realizar el cálculo y determinar el valor absoluto\n",
    "distancia = abs(planeta_1 - planeta_2)\n",
    "print('La distancia entre Planeta 1 y Planeta 2 es de ' + str(abs(distancia)) + ' km')\n",
    "\n",
    "# Convertir de KM a Millas\n",
    "print('La distancia entre Planeta 1 y Planeta 2 es de ' + str(round(abs(distancia * 0.621))) + ' mi')"
   ]
  }
 ],
 "metadata": {
  "interpreter": {
   "hash": "eb0481407d97aac6e0c00625ae34a76774e40243aaa440c45e633651bd75ee1d"
  },
  "kernelspec": {
   "display_name": "Python 3.10.2 64-bit (windows store)",
   "language": "python",
   "name": "python3"
  },
  "language_info": {
   "codemirror_mode": {
    "name": "ipython",
    "version": 3
   },
   "file_extension": ".py",
   "mimetype": "text/x-python",
   "name": "python",
   "nbconvert_exporter": "python",
   "pygments_lexer": "ipython3",
   "version": "3.10.2"
  },
  "orig_nbformat": 4
 },
 "nbformat": 4,
 "nbformat_minor": 2
}
