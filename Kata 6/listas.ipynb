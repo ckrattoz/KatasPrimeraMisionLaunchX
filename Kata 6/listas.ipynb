{
 "cells": [
  {
   "cell_type": "markdown",
   "metadata": {},
   "source": [
    "# Trabajando con listas"
   ]
  },
  {
   "cell_type": "code",
   "execution_count": 1,
   "metadata": {},
   "outputs": [
    {
     "name": "stdout",
     "output_type": "stream",
     "text": [
      "Los planetas del sistema solar son  ['Mercurio', 'Venus', 'Tierra', 'Marte', 'Jupiter', 'Saturno', 'Urano', 'Neptuno']\n",
      "Ahora agregamos un nuevo planeta  ['Mercurio', 'Venus', 'Tierra', 'Marte', 'Jupiter', 'Saturno', 'Urano', 'Neptuno', 'Plutón']\n",
      "Los planetas más cercanos al sol de lo que esta tu planeta son:  ['Mercurio', 'Venus', 'Tierra']\n",
      "Los planetas más lejanos al sol de lo que esta tu planeta son:  ['Jupiter', 'Saturno', 'Urano', 'Neptuno', 'Plutón']\n"
     ]
    }
   ],
   "source": [
    "#Creamos la lista planets y la mostramos\n",
    "planets = ['Mercurio', 'Venus', 'Tierra', 'Marte', 'Jupiter', 'Saturno', 'Urano', 'Neptuno']\n",
    "print('Los planetas del sistema solar son ', planets)\n",
    "\n",
    "# Agregamos a Plutón\n",
    "planets.append('Plutón')\n",
    "print('Ahora agregamos un nuevo planeta ', planets)\n",
    "\n",
    "# Solicitamos el nombre de un planeta\n",
    "planeta_usuario = input('Por favor ingresa el nombre del planeta en el que vives, recuerda usar camelcase y español')\n",
    "\n",
    "# Busca el planeta en la lista\n",
    "indice_planeta = planets.index(planeta_usuario)\n",
    "\n",
    "# Muestra los planetas más cercanos al sol\n",
    "print('Los planetas más cercanos al sol de lo que esta tu planeta son: ', planets[0:indice_planeta])\n",
    "\n",
    "# Muestra los planetas más lejanos al sol\n",
    "print('Los planetas más lejanos al sol de lo que esta tu planeta son: ', planets[indice_planeta + 1:])"
   ]
  }
 ],
 "metadata": {
  "interpreter": {
   "hash": "eb0481407d97aac6e0c00625ae34a76774e40243aaa440c45e633651bd75ee1d"
  },
  "kernelspec": {
   "display_name": "Python 3.10.2 64-bit (windows store)",
   "language": "python",
   "name": "python3"
  },
  "language_info": {
   "codemirror_mode": {
    "name": "ipython",
    "version": 3
   },
   "file_extension": ".py",
   "mimetype": "text/x-python",
   "name": "python",
   "nbconvert_exporter": "python",
   "pygments_lexer": "ipython3",
   "version": "3.10.2"
  },
  "orig_nbformat": 4
 },
 "nbformat": 4,
 "nbformat_minor": 2
}
